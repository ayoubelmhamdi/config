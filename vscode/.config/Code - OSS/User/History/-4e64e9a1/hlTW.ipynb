{
 "cells": [
  {
   "cell_type": "code",
   "execution_count": 65,
   "id": "25c46118-b950-4c62-9afe-f2c25c520d91",
   "metadata": {
    "editable": true,
    "slideshow": {
     "slide_type": ""
    },
    "tags": []
   },
   "outputs": [
    {
     "name": "stdout",
     "output_type": "stream",
     "text": [
      "env: JUPYTER_ENV=YES\n"
     ]
    }
   ],
   "source": [
    "%env JUPYTER_ENV=YES"
   ]
  },
  {
   "cell_type": "code",
   "execution_count": 74,
   "id": "af6db0eb",
   "metadata": {},
   "outputs": [],
   "source": [
    "%run api.py"
   ]
  },
  {
   "cell_type": "code",
   "execution_count": 77,
   "id": "6f0f4474-c273-490f-b81e-ce4e12cec851",
   "metadata": {
    "editable": true,
    "slideshow": {
     "slide_type": ""
    },
    "tags": []
   },
   "outputs": [
    {
     "data": {
      "text/plain": [
       "'ChatGpt'"
      ]
     },
     "execution_count": 77,
     "metadata": {},
     "output_type": "execute_result"
    }
   ],
   "source": [
    "next_server()"
   ]
  }
 ],
 "metadata": {
  "kernelspec": {
   "display_name": "venv",
   "language": "python",
   "name": "python3"
  },
  "language_info": {
   "codemirror_mode": {
    "name": "ipython",
    "version": 3
   },
   "file_extension": ".py",
   "mimetype": "text/x-python",
   "name": "python",
   "nbconvert_exporter": "python",
   "pygments_lexer": "ipython3",
   "version": "3.12.8"
  }
 },
 "nbformat": 4,
 "nbformat_minor": 5
}

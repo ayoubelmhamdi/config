{
 "cells": [
  {
   "cell_type": "code",
   "execution_count": null,
   "id": "25c46118-b950-4c62-9afe-f2c25c520d91",
   "metadata": {
    "editable": true,
    "slideshow": {
     "slide_type": ""
    },
    "tags": []
   },
   "outputs": [
    {
     "name": "stdout",
     "output_type": "stream",
     "text": [
      "|'YES'|\n"
     ]
    }
   ],
   "source": [
    "!export JUPYTER_ENV=\"no\"\n",
    "import os\n",
    "print(f\"|{os.environ.get('JUPYTER_ENV')}|\")\n",
    "# %run api.py"
   ]
  },
  {
   "cell_type": "code",
   "execution_count": 8,
   "id": "6f0f4474-c273-490f-b81e-ce4e12cec851",
   "metadata": {
    "editable": true,
    "slideshow": {
     "slide_type": ""
    },
    "tags": []
   },
   "outputs": [
    {
     "data": {
      "text/plain": [
       "'ChatGpt'"
      ]
     },
     "execution_count": 8,
     "metadata": {},
     "output_type": "execute_result"
    }
   ],
   "source": [
    "next_server()"
   ]
  },
  {
   "cell_type": "code",
   "execution_count": 1,
   "id": "dd10b477-f3fd-441f-abd3-c260abeba07f",
   "metadata": {
    "editable": true,
    "slideshow": {
     "slide_type": ""
    },
    "tags": []
   },
   "outputs": [],
   "source": [
    "from jupyterthemes import jtplot"
   ]
  },
  {
   "cell_type": "code",
   "execution_count": 2,
   "id": "0b14ac94-278a-4428-a572-275275ff788c",
   "metadata": {},
   "outputs": [],
   "source": [
    "jtplot.style()"
   ]
  },
  {
   "cell_type": "code",
   "execution_count": 3,
   "id": "791064c9-b791-45d8-9e62-36d17755f075",
   "metadata": {},
   "outputs": [],
   "source": [
    "jtplot.style(theme='onedork')"
   ]
  },
  {
   "cell_type": "code",
   "execution_count": 4,
   "id": "a18336a7-8fb7-4b05-b800-c76f58481e54",
   "metadata": {},
   "outputs": [],
   "source": [
    "jtplot.style(context='talk', fscale=1.4, spines=False, gridlines='--')"
   ]
  },
  {
   "cell_type": "code",
   "execution_count": null,
   "id": "c1c080e3-e5d0-4c23-aa9d-3e26cf7e5885",
   "metadata": {},
   "outputs": [],
   "source": []
  }
 ],
 "metadata": {
  "kernelspec": {
   "display_name": "venv",
   "language": "python",
   "name": "python3"
  },
  "language_info": {
   "codemirror_mode": {
    "name": "ipython",
    "version": 3
   },
   "file_extension": ".py",
   "mimetype": "text/x-python",
   "name": "python",
   "nbconvert_exporter": "python",
   "pygments_lexer": "ipython3",
   "version": "3.12.8"
  }
 },
 "nbformat": 4,
 "nbformat_minor": 5
}
